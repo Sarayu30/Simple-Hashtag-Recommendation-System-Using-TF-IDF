{
  "nbformat": 4,
  "nbformat_minor": 0,
  "metadata": {
    "colab": {
      "provenance": []
    },
    "kernelspec": {
      "name": "python3",
      "display_name": "Python 3"
    },
    "language_info": {
      "name": "python"
    },
    "widgets": {
      "application/vnd.jupyter.widget-state+json": {
        "9025cbdddb204aac861e0ec4ee7cac3c": {
          "model_module": "@jupyter-widgets/controls",
          "model_name": "TextareaModel",
          "model_module_version": "1.5.0",
          "state": {
            "_dom_classes": [],
            "_model_module": "@jupyter-widgets/controls",
            "_model_module_version": "1.5.0",
            "_model_name": "TextareaModel",
            "_view_count": null,
            "_view_module": "@jupyter-widgets/controls",
            "_view_module_version": "1.5.0",
            "_view_name": "TextareaView",
            "continuous_update": true,
            "description": "Input Text:",
            "description_tooltip": null,
            "disabled": false,
            "layout": "IPY_MODEL_25deb29601fc4f439dbee0982744fd08",
            "placeholder": "Enter your text here...",
            "rows": null,
            "style": "IPY_MODEL_4a117452f20e4c9f8c34cae7c2cfc661",
            "value": "\"Using machine learning for natural language processing can yield impressive results.\"\n\n"
          }
        },
        "25deb29601fc4f439dbee0982744fd08": {
          "model_module": "@jupyter-widgets/base",
          "model_name": "LayoutModel",
          "model_module_version": "1.2.0",
          "state": {
            "_model_module": "@jupyter-widgets/base",
            "_model_module_version": "1.2.0",
            "_model_name": "LayoutModel",
            "_view_count": null,
            "_view_module": "@jupyter-widgets/base",
            "_view_module_version": "1.2.0",
            "_view_name": "LayoutView",
            "align_content": null,
            "align_items": null,
            "align_self": null,
            "border": null,
            "bottom": null,
            "display": null,
            "flex": null,
            "flex_flow": null,
            "grid_area": null,
            "grid_auto_columns": null,
            "grid_auto_flow": null,
            "grid_auto_rows": null,
            "grid_column": null,
            "grid_gap": null,
            "grid_row": null,
            "grid_template_areas": null,
            "grid_template_columns": null,
            "grid_template_rows": null,
            "height": "100px",
            "justify_content": null,
            "justify_items": null,
            "left": null,
            "margin": null,
            "max_height": null,
            "max_width": null,
            "min_height": null,
            "min_width": null,
            "object_fit": null,
            "object_position": null,
            "order": null,
            "overflow": null,
            "overflow_x": null,
            "overflow_y": null,
            "padding": null,
            "right": null,
            "top": null,
            "visibility": null,
            "width": "100%"
          }
        },
        "4a117452f20e4c9f8c34cae7c2cfc661": {
          "model_module": "@jupyter-widgets/controls",
          "model_name": "DescriptionStyleModel",
          "model_module_version": "1.5.0",
          "state": {
            "_model_module": "@jupyter-widgets/controls",
            "_model_module_version": "1.5.0",
            "_model_name": "DescriptionStyleModel",
            "_view_count": null,
            "_view_module": "@jupyter-widgets/base",
            "_view_module_version": "1.2.0",
            "_view_name": "StyleView",
            "description_width": ""
          }
        },
        "4f87bf14140f4473869d290f9a25a1a4": {
          "model_module": "@jupyter-widgets/controls",
          "model_name": "ButtonModel",
          "model_module_version": "1.5.0",
          "state": {
            "_dom_classes": [],
            "_model_module": "@jupyter-widgets/controls",
            "_model_module_version": "1.5.0",
            "_model_name": "ButtonModel",
            "_view_count": null,
            "_view_module": "@jupyter-widgets/controls",
            "_view_module_version": "1.5.0",
            "_view_name": "ButtonView",
            "button_style": "success",
            "description": "Get Recommendations",
            "disabled": false,
            "icon": "",
            "layout": "IPY_MODEL_4e224cdef53f42179c5e06b41282fe5d",
            "style": "IPY_MODEL_1dbef13f57e948f6a65affd4669fef99",
            "tooltip": ""
          }
        },
        "4e224cdef53f42179c5e06b41282fe5d": {
          "model_module": "@jupyter-widgets/base",
          "model_name": "LayoutModel",
          "model_module_version": "1.2.0",
          "state": {
            "_model_module": "@jupyter-widgets/base",
            "_model_module_version": "1.2.0",
            "_model_name": "LayoutModel",
            "_view_count": null,
            "_view_module": "@jupyter-widgets/base",
            "_view_module_version": "1.2.0",
            "_view_name": "LayoutView",
            "align_content": null,
            "align_items": null,
            "align_self": null,
            "border": null,
            "bottom": null,
            "display": null,
            "flex": null,
            "flex_flow": null,
            "grid_area": null,
            "grid_auto_columns": null,
            "grid_auto_flow": null,
            "grid_auto_rows": null,
            "grid_column": null,
            "grid_gap": null,
            "grid_row": null,
            "grid_template_areas": null,
            "grid_template_columns": null,
            "grid_template_rows": null,
            "height": null,
            "justify_content": null,
            "justify_items": null,
            "left": null,
            "margin": null,
            "max_height": null,
            "max_width": null,
            "min_height": null,
            "min_width": null,
            "object_fit": null,
            "object_position": null,
            "order": null,
            "overflow": null,
            "overflow_x": null,
            "overflow_y": null,
            "padding": null,
            "right": null,
            "top": null,
            "visibility": null,
            "width": null
          }
        },
        "1dbef13f57e948f6a65affd4669fef99": {
          "model_module": "@jupyter-widgets/controls",
          "model_name": "ButtonStyleModel",
          "model_module_version": "1.5.0",
          "state": {
            "_model_module": "@jupyter-widgets/controls",
            "_model_module_version": "1.5.0",
            "_model_name": "ButtonStyleModel",
            "_view_count": null,
            "_view_module": "@jupyter-widgets/base",
            "_view_module_version": "1.2.0",
            "_view_name": "StyleView",
            "button_color": null,
            "font_weight": ""
          }
        },
        "8204e7c51d664cd8a7041b9c31efdaeb": {
          "model_module": "@jupyter-widgets/output",
          "model_name": "OutputModel",
          "model_module_version": "1.0.0",
          "state": {
            "_dom_classes": [],
            "_model_module": "@jupyter-widgets/output",
            "_model_module_version": "1.0.0",
            "_model_name": "OutputModel",
            "_view_count": null,
            "_view_module": "@jupyter-widgets/output",
            "_view_module_version": "1.0.0",
            "_view_name": "OutputView",
            "layout": "IPY_MODEL_018d7f14e5cd475da5ec6b13b8a2deac",
            "msg_id": "",
            "outputs": [
              {
                "output_type": "stream",
                "name": "stdout",
                "text": [
                  "Top Terms: machine, language, processing, impressive, learning\n",
                  "Hashtag Recommendations: #machine, #language, #processing, #impressive, #learning\n"
                ]
              }
            ]
          }
        },
        "018d7f14e5cd475da5ec6b13b8a2deac": {
          "model_module": "@jupyter-widgets/base",
          "model_name": "LayoutModel",
          "model_module_version": "1.2.0",
          "state": {
            "_model_module": "@jupyter-widgets/base",
            "_model_module_version": "1.2.0",
            "_model_name": "LayoutModel",
            "_view_count": null,
            "_view_module": "@jupyter-widgets/base",
            "_view_module_version": "1.2.0",
            "_view_name": "LayoutView",
            "align_content": null,
            "align_items": null,
            "align_self": null,
            "border": null,
            "bottom": null,
            "display": null,
            "flex": null,
            "flex_flow": null,
            "grid_area": null,
            "grid_auto_columns": null,
            "grid_auto_flow": null,
            "grid_auto_rows": null,
            "grid_column": null,
            "grid_gap": null,
            "grid_row": null,
            "grid_template_areas": null,
            "grid_template_columns": null,
            "grid_template_rows": null,
            "height": null,
            "justify_content": null,
            "justify_items": null,
            "left": null,
            "margin": null,
            "max_height": null,
            "max_width": null,
            "min_height": null,
            "min_width": null,
            "object_fit": null,
            "object_position": null,
            "order": null,
            "overflow": null,
            "overflow_x": null,
            "overflow_y": null,
            "padding": null,
            "right": null,
            "top": null,
            "visibility": null,
            "width": null
          }
        }
      }
    }
  },
  "cells": [
    {
      "cell_type": "code",
      "source": [
        "# Import required libraries\n",
        "from datasets import load_dataset\n",
        "from sklearn.feature_extraction.text import TfidfVectorizer\n",
        "import numpy as np\n",
        "import spacy\n",
        "import ipywidgets as widgets\n",
        "from IPython.display import display, clear_output\n",
        "\n",
        "# Load the Spacy language model for POS tagging\n",
        "nlp = spacy.load(\"en_core_web_sm\")\n",
        "\n",
        "# Load the AG News dataset from Hugging Face\n",
        "dataset = load_dataset(\"ag_news\")\n",
        "train_data = dataset['train']\n",
        "X_train = train_data['text']\n",
        "\n",
        "# Apply TF-IDF vectorization to the text data\n",
        "vectorizer = TfidfVectorizer(max_features=5000, stop_words='english')\n",
        "vectorizer.fit(X_train)\n",
        "\n",
        "# Function to filter out verbs from the text\n",
        "def filter_verbs(text):\n",
        "    doc = nlp(text)\n",
        "    return ' '.join([token.text for token in doc if token.pos_ != \"VERB\"])\n",
        "\n",
        "# Function to recommend hashtags\n",
        "def recommend_hashtags(text, vectorizer, top_n=5):\n",
        "    filtered_text = filter_verbs(text)\n",
        "    tfidf_matrix = vectorizer.transform([filtered_text])\n",
        "    tfidf_array = tfidf_matrix.toarray().flatten()\n",
        "    top_indices = np.argsort(tfidf_array)[-top_n:]\n",
        "    feature_names = vectorizer.get_feature_names_out()\n",
        "    top_terms = [feature_names[i] for i in top_indices]\n",
        "    hashtags = [f\"#{term}\" for term in top_terms]\n",
        "    return top_terms, hashtags\n",
        "\n",
        "# Create widgets for input and output\n",
        "text_input = widgets.Textarea(\n",
        "    description='Input Text:',\n",
        "    placeholder='Enter your text here...',\n",
        "    layout=widgets.Layout(width='100%', height='100px')\n",
        ")\n",
        "\n",
        "output = widgets.Output()\n",
        "\n",
        "# Define a function to handle button click\n",
        "def on_button_click(b):\n",
        "    with output:\n",
        "        clear_output()  # Clear previous output\n",
        "        input_text = text_input.value\n",
        "        top_terms, hashtags = recommend_hashtags(input_text, vectorizer)\n",
        "\n",
        "        print(f\"Top Terms: {', '.join(top_terms)}\")\n",
        "        print(f\"Hashtag Recommendations: {', '.join(hashtags)}\")\n",
        "\n",
        "# Create a button widget\n",
        "button = widgets.Button(\n",
        "    description='Get Recommendations',\n",
        "    button_style='success'\n",
        ")\n",
        "\n",
        "# Link button click to the function\n",
        "button.on_click(on_button_click)\n",
        "\n",
        "# Display the widgets\n",
        "display(text_input, button, output)\n"
      ],
      "metadata": {
        "colab": {
          "base_uri": "https://localhost:8080/",
          "height": 208,
          "referenced_widgets": [
            "9025cbdddb204aac861e0ec4ee7cac3c",
            "25deb29601fc4f439dbee0982744fd08",
            "4a117452f20e4c9f8c34cae7c2cfc661",
            "4f87bf14140f4473869d290f9a25a1a4",
            "4e224cdef53f42179c5e06b41282fe5d",
            "1dbef13f57e948f6a65affd4669fef99",
            "8204e7c51d664cd8a7041b9c31efdaeb",
            "018d7f14e5cd475da5ec6b13b8a2deac"
          ]
        },
        "id": "SveWXVhIRA19",
        "outputId": "f4725f70-14aa-44c3-de31-5adb120239ea"
      },
      "execution_count": 10,
      "outputs": [
        {
          "output_type": "display_data",
          "data": {
            "text/plain": [
              "Textarea(value='', description='Input Text:', layout=Layout(height='100px', width='100%'), placeholder='Enter …"
            ],
            "application/vnd.jupyter.widget-view+json": {
              "version_major": 2,
              "version_minor": 0,
              "model_id": "9025cbdddb204aac861e0ec4ee7cac3c"
            }
          },
          "metadata": {}
        },
        {
          "output_type": "display_data",
          "data": {
            "text/plain": [
              "Button(button_style='success', description='Get Recommendations', style=ButtonStyle())"
            ],
            "application/vnd.jupyter.widget-view+json": {
              "version_major": 2,
              "version_minor": 0,
              "model_id": "4f87bf14140f4473869d290f9a25a1a4"
            }
          },
          "metadata": {}
        },
        {
          "output_type": "display_data",
          "data": {
            "text/plain": [
              "Output()"
            ],
            "application/vnd.jupyter.widget-view+json": {
              "version_major": 2,
              "version_minor": 0,
              "model_id": "8204e7c51d664cd8a7041b9c31efdaeb"
            }
          },
          "metadata": {}
        }
      ]
    }
  ]
}